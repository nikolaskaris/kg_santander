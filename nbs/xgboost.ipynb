{
 "cells": [
  {
   "cell_type": "code",
   "execution_count": 1,
   "metadata": {},
   "outputs": [],
   "source": [
    "import caret\n",
    "from xgboost import *"
   ]
  },
  {
   "cell_type": "code",
   "execution_count": 2,
   "metadata": {},
   "outputs": [],
   "source": [
    "%reload_ext autoreload\n",
    "%autoreload 2\n",
    "%matplotlib inline"
   ]
  },
  {
   "cell_type": "code",
   "execution_count": 3,
   "metadata": {},
   "outputs": [],
   "source": [
    "from fastai import *\n",
    "from fastai.tabular import *\n",
    "import os\n",
    "import time\n",
    "from xgboost import *"
   ]
  },
  {
   "cell_type": "code",
   "execution_count": 4,
   "metadata": {},
   "outputs": [],
   "source": [
    "PATH = Path('/storage/santander_comp/')"
   ]
  },
  {
   "cell_type": "code",
   "execution_count": 5,
   "metadata": {},
   "outputs": [],
   "source": [
    "train = pd.read_csv(PATH/'train.csv', engine = 'python')"
   ]
  },
  {
   "cell_type": "code",
   "execution_count": 6,
   "metadata": {},
   "outputs": [],
   "source": [
    "test = pd.read_csv(PATH/'test.csv', engine = 'python')"
   ]
  },
  {
   "cell_type": "code",
   "execution_count": 7,
   "metadata": {},
   "outputs": [],
   "source": [
    "train.drop('ID_code', inplace = True, axis = 1)\n",
    "test.drop('ID_code', inplace = True, axis = 1)"
   ]
  },
  {
   "cell_type": "code",
   "execution_count": 8,
   "metadata": {},
   "outputs": [],
   "source": [
    "augmented_features = ['min', 'mean', 'max', 'median', 'std', 'abs_mean', 'abs_median', 'abs_std', 'skew', 'kurt', 'sq_kurt']\n"
   ]
  },
  {
   "cell_type": "code",
   "execution_count": 9,
   "metadata": {},
   "outputs": [
    {
     "data": {
      "text/plain": [
       "200"
      ]
     },
     "execution_count": 9,
     "metadata": {},
     "output_type": "execute_result"
    }
   ],
   "source": [
    "# get the features list\n",
    "features = [feature for feature in train.columns if 'var' in feature]\n",
    "len(features)"
   ]
  },
  {
   "cell_type": "code",
   "execution_count": 10,
   "metadata": {},
   "outputs": [],
   "source": [
    "def augment_df(df):\n",
    "    for feature in features:\n",
    "        df[f'sq_{feature}'] = df[feature]**2\n",
    "        df[f'repo_{feature}'] = df[feature].apply(lambda x: 0 if x==0 else 1/x)\n",
    "        df[f'repo_sq_{feature}'] = df[f'sq_{feature}'].apply(lambda x: 0 if x==0 else 1/x)\n",
    "    \n",
    "    df['min'] = df[features].min(axis=1)\n",
    "    df['mean'] = df[features].mean(axis=1)\n",
    "    df['max'] = df[features].max(axis=1)\n",
    "    df['median'] = df[features].median(axis=1)\n",
    "    df['std'] = df[features].std(axis=1)\n",
    "    df['var'] = df[features].var(axis=1)\n",
    "    df['abs_mean'] = df[features].abs().mean(axis=1)\n",
    "    df['abs_median'] = df[features].abs().median(axis=1)\n",
    "    df['abs_std'] = df[features].abs().std(axis=1)\n",
    "    df['skew'] = df[features].skew(axis=1)\n",
    "    df['kurt'] = df[features].kurt(axis=1)\n",
    "    \n",
    "    df['sq_kurt'] = df[[f'sq_{feature}' for feature in features]].kurt(axis=1)\n",
    "    "
   ]
  },
  {
   "cell_type": "code",
   "execution_count": 11,
   "metadata": {},
   "outputs": [],
   "source": [
    "augment_df(train)"
   ]
  },
  {
   "cell_type": "code",
   "execution_count": 12,
   "metadata": {},
   "outputs": [],
   "source": [
    "augment_df(test)"
   ]
  },
  {
   "cell_type": "code",
   "execution_count": 15,
   "metadata": {},
   "outputs": [
    {
     "data": {
      "text/plain": [
       "(200000, 813)"
      ]
     },
     "execution_count": 15,
     "metadata": {},
     "output_type": "execute_result"
    }
   ],
   "source": [
    "train.shape"
   ]
  },
  {
   "cell_type": "code",
   "execution_count": 16,
   "metadata": {},
   "outputs": [
    {
     "data": {
      "text/html": [
       "<div>\n",
       "<style scoped>\n",
       "    .dataframe tbody tr th:only-of-type {\n",
       "        vertical-align: middle;\n",
       "    }\n",
       "\n",
       "    .dataframe tbody tr th {\n",
       "        vertical-align: top;\n",
       "    }\n",
       "\n",
       "    .dataframe thead th {\n",
       "        text-align: right;\n",
       "    }\n",
       "</style>\n",
       "<table border=\"1\" class=\"dataframe\">\n",
       "  <thead>\n",
       "    <tr style=\"text-align: right;\">\n",
       "      <th></th>\n",
       "      <th>var_0</th>\n",
       "      <th>var_1</th>\n",
       "      <th>var_2</th>\n",
       "      <th>var_3</th>\n",
       "      <th>var_4</th>\n",
       "      <th>var_5</th>\n",
       "      <th>var_6</th>\n",
       "      <th>var_7</th>\n",
       "      <th>var_8</th>\n",
       "      <th>var_9</th>\n",
       "      <th>...</th>\n",
       "      <th>max</th>\n",
       "      <th>median</th>\n",
       "      <th>std</th>\n",
       "      <th>var</th>\n",
       "      <th>abs_mean</th>\n",
       "      <th>abs_median</th>\n",
       "      <th>abs_std</th>\n",
       "      <th>skew</th>\n",
       "      <th>kurt</th>\n",
       "      <th>sq_kurt</th>\n",
       "    </tr>\n",
       "  </thead>\n",
       "  <tbody>\n",
       "    <tr>\n",
       "      <th>count</th>\n",
       "      <td>200000.000000</td>\n",
       "      <td>200000.000000</td>\n",
       "      <td>200000.000000</td>\n",
       "      <td>200000.000000</td>\n",
       "      <td>200000.000000</td>\n",
       "      <td>200000.000000</td>\n",
       "      <td>200000.000000</td>\n",
       "      <td>200000.000000</td>\n",
       "      <td>200000.000000</td>\n",
       "      <td>200000.000000</td>\n",
       "      <td>...</td>\n",
       "      <td>200000.000000</td>\n",
       "      <td>200000.000000</td>\n",
       "      <td>200000.000000</td>\n",
       "      <td>200000.000000</td>\n",
       "      <td>200000.000000</td>\n",
       "      <td>200000.000000</td>\n",
       "      <td>200000.000000</td>\n",
       "      <td>200000.000000</td>\n",
       "      <td>200000.000000</td>\n",
       "      <td>200000.000000</td>\n",
       "    </tr>\n",
       "    <tr>\n",
       "      <th>mean</th>\n",
       "      <td>10.658737</td>\n",
       "      <td>-1.624244</td>\n",
       "      <td>10.707452</td>\n",
       "      <td>6.788214</td>\n",
       "      <td>11.076399</td>\n",
       "      <td>-5.050558</td>\n",
       "      <td>5.415164</td>\n",
       "      <td>16.529143</td>\n",
       "      <td>0.277135</td>\n",
       "      <td>7.569407</td>\n",
       "      <td>...</td>\n",
       "      <td>39.283173</td>\n",
       "      <td>6.668643</td>\n",
       "      <td>9.657404</td>\n",
       "      <td>93.584865</td>\n",
       "      <td>9.315585</td>\n",
       "      <td>7.894286</td>\n",
       "      <td>7.228956</td>\n",
       "      <td>-0.177261</td>\n",
       "      <td>2.242584</td>\n",
       "      <td>19.779803</td>\n",
       "    </tr>\n",
       "    <tr>\n",
       "      <th>std</th>\n",
       "      <td>3.036716</td>\n",
       "      <td>4.040509</td>\n",
       "      <td>2.633888</td>\n",
       "      <td>2.052724</td>\n",
       "      <td>1.616456</td>\n",
       "      <td>7.869293</td>\n",
       "      <td>0.864686</td>\n",
       "      <td>3.424482</td>\n",
       "      <td>3.333375</td>\n",
       "      <td>1.231865</td>\n",
       "      <td>...</td>\n",
       "      <td>5.643665</td>\n",
       "      <td>0.402602</td>\n",
       "      <td>0.565163</td>\n",
       "      <td>10.969331</td>\n",
       "      <td>0.335117</td>\n",
       "      <td>0.467109</td>\n",
       "      <td>0.465629</td>\n",
       "      <td>0.392514</td>\n",
       "      <td>1.450894</td>\n",
       "      <td>12.887132</td>\n",
       "    </tr>\n",
       "    <tr>\n",
       "      <th>min</th>\n",
       "      <td>0.188700</td>\n",
       "      <td>-15.043400</td>\n",
       "      <td>2.355200</td>\n",
       "      <td>-0.022400</td>\n",
       "      <td>5.484400</td>\n",
       "      <td>-27.767000</td>\n",
       "      <td>2.216400</td>\n",
       "      <td>5.713700</td>\n",
       "      <td>-9.956000</td>\n",
       "      <td>4.243300</td>\n",
       "      <td>...</td>\n",
       "      <td>22.719500</td>\n",
       "      <td>4.831100</td>\n",
       "      <td>7.328641</td>\n",
       "      <td>53.708972</td>\n",
       "      <td>7.820990</td>\n",
       "      <td>6.129450</td>\n",
       "      <td>5.347387</td>\n",
       "      <td>-2.568800</td>\n",
       "      <td>-0.374018</td>\n",
       "      <td>1.206168</td>\n",
       "    </tr>\n",
       "    <tr>\n",
       "      <th>25%</th>\n",
       "      <td>8.442975</td>\n",
       "      <td>-4.700125</td>\n",
       "      <td>8.735600</td>\n",
       "      <td>5.230500</td>\n",
       "      <td>9.891075</td>\n",
       "      <td>-11.201400</td>\n",
       "      <td>4.772600</td>\n",
       "      <td>13.933900</td>\n",
       "      <td>-2.303900</td>\n",
       "      <td>6.623800</td>\n",
       "      <td>...</td>\n",
       "      <td>35.217300</td>\n",
       "      <td>6.398300</td>\n",
       "      <td>9.268811</td>\n",
       "      <td>85.910858</td>\n",
       "      <td>9.087254</td>\n",
       "      <td>7.565750</td>\n",
       "      <td>6.905384</td>\n",
       "      <td>-0.410170</td>\n",
       "      <td>1.313078</td>\n",
       "      <td>11.344336</td>\n",
       "    </tr>\n",
       "    <tr>\n",
       "      <th>50%</th>\n",
       "      <td>10.513800</td>\n",
       "      <td>-1.590500</td>\n",
       "      <td>10.560700</td>\n",
       "      <td>6.822350</td>\n",
       "      <td>11.099750</td>\n",
       "      <td>-4.834100</td>\n",
       "      <td>5.391600</td>\n",
       "      <td>16.422700</td>\n",
       "      <td>0.372000</td>\n",
       "      <td>7.632000</td>\n",
       "      <td>...</td>\n",
       "      <td>38.899400</td>\n",
       "      <td>6.682200</td>\n",
       "      <td>9.643002</td>\n",
       "      <td>92.987488</td>\n",
       "      <td>9.313394</td>\n",
       "      <td>7.885850</td>\n",
       "      <td>7.214661</td>\n",
       "      <td>-0.149470</td>\n",
       "      <td>1.916551</td>\n",
       "      <td>16.440346</td>\n",
       "    </tr>\n",
       "    <tr>\n",
       "      <th>75%</th>\n",
       "      <td>12.739600</td>\n",
       "      <td>1.343400</td>\n",
       "      <td>12.495025</td>\n",
       "      <td>8.327600</td>\n",
       "      <td>12.253400</td>\n",
       "      <td>0.942575</td>\n",
       "      <td>6.005800</td>\n",
       "      <td>19.094550</td>\n",
       "      <td>2.930025</td>\n",
       "      <td>8.584825</td>\n",
       "      <td>...</td>\n",
       "      <td>42.957250</td>\n",
       "      <td>6.936800</td>\n",
       "      <td>10.031496</td>\n",
       "      <td>100.630906</td>\n",
       "      <td>9.540688</td>\n",
       "      <td>8.211450</td>\n",
       "      <td>7.534798</td>\n",
       "      <td>0.088063</td>\n",
       "      <td>2.749177</td>\n",
       "      <td>24.214145</td>\n",
       "    </tr>\n",
       "    <tr>\n",
       "      <th>max</th>\n",
       "      <td>22.323400</td>\n",
       "      <td>9.385100</td>\n",
       "      <td>18.714100</td>\n",
       "      <td>13.142000</td>\n",
       "      <td>16.037100</td>\n",
       "      <td>17.253700</td>\n",
       "      <td>8.302500</td>\n",
       "      <td>28.292800</td>\n",
       "      <td>9.665500</td>\n",
       "      <td>11.003600</td>\n",
       "      <td>...</td>\n",
       "      <td>84.684100</td>\n",
       "      <td>8.741900</td>\n",
       "      <td>12.179116</td>\n",
       "      <td>148.330865</td>\n",
       "      <td>10.788287</td>\n",
       "      <td>9.893100</td>\n",
       "      <td>9.659714</td>\n",
       "      <td>2.001981</td>\n",
       "      <td>22.044093</td>\n",
       "      <td>146.813460</td>\n",
       "    </tr>\n",
       "  </tbody>\n",
       "</table>\n",
       "<p>8 rows × 812 columns</p>\n",
       "</div>"
      ],
      "text/plain": [
       "               var_0          var_1          var_2          var_3  \\\n",
       "count  200000.000000  200000.000000  200000.000000  200000.000000   \n",
       "mean       10.658737      -1.624244      10.707452       6.788214   \n",
       "std         3.036716       4.040509       2.633888       2.052724   \n",
       "min         0.188700     -15.043400       2.355200      -0.022400   \n",
       "25%         8.442975      -4.700125       8.735600       5.230500   \n",
       "50%        10.513800      -1.590500      10.560700       6.822350   \n",
       "75%        12.739600       1.343400      12.495025       8.327600   \n",
       "max        22.323400       9.385100      18.714100      13.142000   \n",
       "\n",
       "               var_4          var_5          var_6          var_7  \\\n",
       "count  200000.000000  200000.000000  200000.000000  200000.000000   \n",
       "mean       11.076399      -5.050558       5.415164      16.529143   \n",
       "std         1.616456       7.869293       0.864686       3.424482   \n",
       "min         5.484400     -27.767000       2.216400       5.713700   \n",
       "25%         9.891075     -11.201400       4.772600      13.933900   \n",
       "50%        11.099750      -4.834100       5.391600      16.422700   \n",
       "75%        12.253400       0.942575       6.005800      19.094550   \n",
       "max        16.037100      17.253700       8.302500      28.292800   \n",
       "\n",
       "               var_8          var_9      ...                  max  \\\n",
       "count  200000.000000  200000.000000      ...        200000.000000   \n",
       "mean        0.277135       7.569407      ...            39.283173   \n",
       "std         3.333375       1.231865      ...             5.643665   \n",
       "min        -9.956000       4.243300      ...            22.719500   \n",
       "25%        -2.303900       6.623800      ...            35.217300   \n",
       "50%         0.372000       7.632000      ...            38.899400   \n",
       "75%         2.930025       8.584825      ...            42.957250   \n",
       "max         9.665500      11.003600      ...            84.684100   \n",
       "\n",
       "              median            std            var       abs_mean  \\\n",
       "count  200000.000000  200000.000000  200000.000000  200000.000000   \n",
       "mean        6.668643       9.657404      93.584865       9.315585   \n",
       "std         0.402602       0.565163      10.969331       0.335117   \n",
       "min         4.831100       7.328641      53.708972       7.820990   \n",
       "25%         6.398300       9.268811      85.910858       9.087254   \n",
       "50%         6.682200       9.643002      92.987488       9.313394   \n",
       "75%         6.936800      10.031496     100.630906       9.540688   \n",
       "max         8.741900      12.179116     148.330865      10.788287   \n",
       "\n",
       "          abs_median        abs_std           skew           kurt  \\\n",
       "count  200000.000000  200000.000000  200000.000000  200000.000000   \n",
       "mean        7.894286       7.228956      -0.177261       2.242584   \n",
       "std         0.467109       0.465629       0.392514       1.450894   \n",
       "min         6.129450       5.347387      -2.568800      -0.374018   \n",
       "25%         7.565750       6.905384      -0.410170       1.313078   \n",
       "50%         7.885850       7.214661      -0.149470       1.916551   \n",
       "75%         8.211450       7.534798       0.088063       2.749177   \n",
       "max         9.893100       9.659714       2.001981      22.044093   \n",
       "\n",
       "             sq_kurt  \n",
       "count  200000.000000  \n",
       "mean       19.779803  \n",
       "std        12.887132  \n",
       "min         1.206168  \n",
       "25%        11.344336  \n",
       "50%        16.440346  \n",
       "75%        24.214145  \n",
       "max       146.813460  \n",
       "\n",
       "[8 rows x 812 columns]"
      ]
     },
     "execution_count": 16,
     "metadata": {},
     "output_type": "execute_result"
    }
   ],
   "source": [
    "test.describe()"
   ]
  },
  {
   "cell_type": "code",
   "execution_count": 25,
   "metadata": {},
   "outputs": [],
   "source": [
    "train_df = train.copy()\n",
    "test_df = test.copy()"
   ]
  },
  {
   "cell_type": "code",
   "execution_count": 27,
   "metadata": {},
   "outputs": [],
   "source": [
    "target = train_df['target']"
   ]
  },
  {
   "cell_type": "code",
   "execution_count": 17,
   "metadata": {},
   "outputs": [],
   "source": [
    "random.seed(2019)\n",
    "valid_idx = random.sample(list(train.index.values), int(len(train)*0.1) )"
   ]
  },
  {
   "cell_type": "code",
   "execution_count": 18,
   "metadata": {},
   "outputs": [
    {
     "data": {
      "text/plain": [
       "(0.0956, 0.10049)"
      ]
     },
     "execution_count": 18,
     "metadata": {},
     "output_type": "execute_result"
    }
   ],
   "source": [
    "# make sure distributions are roughly the same between training and test\n",
    "train.iloc[valid_idx].target.sum() / len(valid_idx) , train.target.sum() / len(train)"
   ]
  },
  {
   "cell_type": "code",
   "execution_count": 19,
   "metadata": {},
   "outputs": [
    {
     "data": {
      "text/plain": [
       "800"
      ]
     },
     "execution_count": 19,
     "metadata": {},
     "output_type": "execute_result"
    }
   ],
   "source": [
    "features = features + [f'sq_{feature}' for feature in features] + [f'repo_{feature}' for feature in features] + [f'repo_sq_{feature}' for feature in features]\n",
    "len(features) "
   ]
  },
  {
   "cell_type": "code",
   "execution_count": 35,
   "metadata": {},
   "outputs": [],
   "source": [
    "param = {\n",
    "    'bagging_freq': 5,\n",
    "    'bagging_fraction': 0.4,\n",
    "    'boost_from_average':'false',\n",
    "    'boost': 'gbdt',\n",
    "    'feature_fraction': 0.02,\n",
    "    'learning_rate': 0.01,\n",
    "    'max_depth': -1,  \n",
    "    'metric':'auc',\n",
    "    'min_data_in_leaf': 80,\n",
    "    'min_sum_hessian_in_leaf': 10.0,\n",
    "    'num_leaves': 13,\n",
    "    'num_threads': 8,\n",
    "    'tree_learner': 'serial',\n",
    "    'objective': 'binary', \n",
    "    'verbosity': 1\n",
    "}"
   ]
  },
  {
   "cell_type": "code",
   "execution_count": 23,
   "metadata": {},
   "outputs": [],
   "source": [
    "import gc\n",
    "import os\n",
    "import logging\n",
    "import datetime\n",
    "import warnings\n",
    "import numpy as np\n",
    "import pandas as pd\n",
    "import seaborn as sns\n",
    "import lightgbm as lgb\n",
    "from tqdm import tqdm_notebook\n",
    "import matplotlib.pyplot as plt\n",
    "from sklearn.metrics import mean_squared_error\n",
    "from sklearn.metrics import roc_auc_score, roc_curve\n",
    "from sklearn.model_selection import StratifiedKFold\n",
    "warnings.filterwarnings('ignore')"
   ]
  },
  {
   "cell_type": "code",
   "execution_count": 36,
   "metadata": {},
   "outputs": [
    {
     "name": "stdout",
     "output_type": "stream",
     "text": [
      "Fold 0\n",
      "Training until validation scores don't improve for 3000 rounds.\n",
      "[1000]\ttraining's auc: 0.88752\tvalid_1's auc: 0.868245\n",
      "[2000]\ttraining's auc: 0.90609\tvalid_1's auc: 0.882023\n",
      "[3000]\ttraining's auc: 0.916947\tvalid_1's auc: 0.88923\n",
      "[4000]\ttraining's auc: 0.924543\tvalid_1's auc: 0.893432\n",
      "[5000]\ttraining's auc: 0.930562\tvalid_1's auc: 0.895608\n",
      "[6000]\ttraining's auc: 0.935714\tvalid_1's auc: 0.897173\n",
      "[7000]\ttraining's auc: 0.940272\tvalid_1's auc: 0.897904\n",
      "[8000]\ttraining's auc: 0.944465\tvalid_1's auc: 0.898539\n",
      "[9000]\ttraining's auc: 0.948363\tvalid_1's auc: 0.898654\n",
      "[10000]\ttraining's auc: 0.952106\tvalid_1's auc: 0.898835\n",
      "[11000]\ttraining's auc: 0.955619\tvalid_1's auc: 0.898733\n",
      "[12000]\ttraining's auc: 0.958977\tvalid_1's auc: 0.898861\n",
      "[13000]\ttraining's auc: 0.962126\tvalid_1's auc: 0.898839\n",
      "[14000]\ttraining's auc: 0.965116\tvalid_1's auc: 0.89881\n",
      "Early stopping, best iteration is:\n",
      "[11421]\ttraining's auc: 0.957052\tvalid_1's auc: 0.898963\n",
      "Fold 1\n",
      "Training until validation scores don't improve for 3000 rounds.\n",
      "[1000]\ttraining's auc: 0.88742\tvalid_1's auc: 0.872178\n",
      "[2000]\ttraining's auc: 0.906031\tvalid_1's auc: 0.885587\n",
      "[3000]\ttraining's auc: 0.916894\tvalid_1's auc: 0.891639\n",
      "[4000]\ttraining's auc: 0.924468\tvalid_1's auc: 0.895233\n",
      "[5000]\ttraining's auc: 0.930466\tvalid_1's auc: 0.896919\n",
      "[6000]\ttraining's auc: 0.935567\tvalid_1's auc: 0.897986\n",
      "[7000]\ttraining's auc: 0.940101\tvalid_1's auc: 0.898342\n",
      "[8000]\ttraining's auc: 0.944349\tvalid_1's auc: 0.898647\n",
      "[9000]\ttraining's auc: 0.948253\tvalid_1's auc: 0.898659\n",
      "[10000]\ttraining's auc: 0.952083\tvalid_1's auc: 0.89882\n",
      "[11000]\ttraining's auc: 0.955638\tvalid_1's auc: 0.899022\n",
      "[12000]\ttraining's auc: 0.959018\tvalid_1's auc: 0.89909\n",
      "[13000]\ttraining's auc: 0.962157\tvalid_1's auc: 0.899093\n",
      "[14000]\ttraining's auc: 0.965109\tvalid_1's auc: 0.898774\n",
      "[15000]\ttraining's auc: 0.967926\tvalid_1's auc: 0.89875\n",
      "Early stopping, best iteration is:\n",
      "[12453]\ttraining's auc: 0.960459\tvalid_1's auc: 0.899137\n",
      "Fold 2\n",
      "Training until validation scores don't improve for 3000 rounds.\n",
      "[1000]\ttraining's auc: 0.88829\tvalid_1's auc: 0.864755\n",
      "[2000]\ttraining's auc: 0.906577\tvalid_1's auc: 0.87843\n",
      "[3000]\ttraining's auc: 0.917265\tvalid_1's auc: 0.885528\n",
      "[4000]\ttraining's auc: 0.924905\tvalid_1's auc: 0.889341\n",
      "[5000]\ttraining's auc: 0.930903\tvalid_1's auc: 0.891418\n",
      "[6000]\ttraining's auc: 0.935943\tvalid_1's auc: 0.892453\n",
      "[7000]\ttraining's auc: 0.940486\tvalid_1's auc: 0.893097\n",
      "[8000]\ttraining's auc: 0.94468\tvalid_1's auc: 0.893385\n",
      "[9000]\ttraining's auc: 0.948665\tvalid_1's auc: 0.893456\n",
      "[10000]\ttraining's auc: 0.952394\tvalid_1's auc: 0.893358\n",
      "[11000]\ttraining's auc: 0.955895\tvalid_1's auc: 0.89337\n",
      "[12000]\ttraining's auc: 0.959173\tvalid_1's auc: 0.893413\n",
      "Early stopping, best iteration is:\n",
      "[9235]\ttraining's auc: 0.949566\tvalid_1's auc: 0.893535\n",
      "Fold 3\n",
      "Training until validation scores don't improve for 3000 rounds.\n",
      "[1000]\ttraining's auc: 0.88761\tvalid_1's auc: 0.869604\n",
      "[2000]\ttraining's auc: 0.906045\tvalid_1's auc: 0.882998\n",
      "[3000]\ttraining's auc: 0.91687\tvalid_1's auc: 0.889937\n",
      "[4000]\ttraining's auc: 0.924527\tvalid_1's auc: 0.893365\n",
      "[5000]\ttraining's auc: 0.930538\tvalid_1's auc: 0.895229\n",
      "[6000]\ttraining's auc: 0.93569\tvalid_1's auc: 0.896332\n",
      "[7000]\ttraining's auc: 0.940273\tvalid_1's auc: 0.896842\n",
      "[8000]\ttraining's auc: 0.944441\tvalid_1's auc: 0.897284\n",
      "[9000]\ttraining's auc: 0.948368\tvalid_1's auc: 0.897397\n",
      "[10000]\ttraining's auc: 0.952111\tvalid_1's auc: 0.897342\n",
      "[11000]\ttraining's auc: 0.955606\tvalid_1's auc: 0.897309\n",
      "[12000]\ttraining's auc: 0.958919\tvalid_1's auc: 0.897007\n",
      "Early stopping, best iteration is:\n",
      "[9771]\ttraining's auc: 0.9513\tvalid_1's auc: 0.897473\n",
      "Fold 4\n",
      "Training until validation scores don't improve for 3000 rounds.\n",
      "[1000]\ttraining's auc: 0.887703\tvalid_1's auc: 0.867789\n",
      "[2000]\ttraining's auc: 0.90597\tvalid_1's auc: 0.882745\n",
      "[3000]\ttraining's auc: 0.916958\tvalid_1's auc: 0.890351\n",
      "[4000]\ttraining's auc: 0.924612\tvalid_1's auc: 0.894569\n",
      "[5000]\ttraining's auc: 0.930544\tvalid_1's auc: 0.89639\n",
      "[6000]\ttraining's auc: 0.935627\tvalid_1's auc: 0.897498\n",
      "[7000]\ttraining's auc: 0.94013\tvalid_1's auc: 0.897911\n",
      "[8000]\ttraining's auc: 0.944273\tvalid_1's auc: 0.89823\n",
      "[9000]\ttraining's auc: 0.948152\tvalid_1's auc: 0.898345\n",
      "[10000]\ttraining's auc: 0.951911\tvalid_1's auc: 0.89843\n",
      "[11000]\ttraining's auc: 0.955427\tvalid_1's auc: 0.898581\n",
      "[12000]\ttraining's auc: 0.958721\tvalid_1's auc: 0.898631\n",
      "[13000]\ttraining's auc: 0.961852\tvalid_1's auc: 0.898492\n",
      "[14000]\ttraining's auc: 0.964795\tvalid_1's auc: 0.898359\n",
      "Early stopping, best iteration is:\n",
      "[11657]\ttraining's auc: 0.957591\tvalid_1's auc: 0.898649\n",
      "Fold 5\n",
      "Training until validation scores don't improve for 3000 rounds.\n",
      "[1000]\ttraining's auc: 0.887285\tvalid_1's auc: 0.874933\n",
      "[2000]\ttraining's auc: 0.905513\tvalid_1's auc: 0.888613\n",
      "[3000]\ttraining's auc: 0.916614\tvalid_1's auc: 0.894781\n",
      "[4000]\ttraining's auc: 0.924189\tvalid_1's auc: 0.898478\n",
      "[5000]\ttraining's auc: 0.93009\tvalid_1's auc: 0.900386\n",
      "[6000]\ttraining's auc: 0.935205\tvalid_1's auc: 0.901498\n",
      "[7000]\ttraining's auc: 0.939748\tvalid_1's auc: 0.902159\n",
      "[8000]\ttraining's auc: 0.943927\tvalid_1's auc: 0.902378\n",
      "[9000]\ttraining's auc: 0.947876\tvalid_1's auc: 0.902697\n",
      "[10000]\ttraining's auc: 0.951674\tvalid_1's auc: 0.902717\n",
      "[11000]\ttraining's auc: 0.955186\tvalid_1's auc: 0.902677\n",
      "[12000]\ttraining's auc: 0.958555\tvalid_1's auc: 0.902781\n",
      "[13000]\ttraining's auc: 0.961704\tvalid_1's auc: 0.902911\n",
      "[14000]\ttraining's auc: 0.964697\tvalid_1's auc: 0.90299\n",
      "[15000]\ttraining's auc: 0.967468\tvalid_1's auc: 0.902965\n",
      "[16000]\ttraining's auc: 0.970125\tvalid_1's auc: 0.903085\n",
      "[17000]\ttraining's auc: 0.972597\tvalid_1's auc: 0.90295\n",
      "[18000]\ttraining's auc: 0.974963\tvalid_1's auc: 0.902891\n",
      "[19000]\ttraining's auc: 0.977164\tvalid_1's auc: 0.902625\n",
      "Early stopping, best iteration is:\n",
      "[16245]\ttraining's auc: 0.970733\tvalid_1's auc: 0.903172\n",
      "Fold 6\n",
      "Training until validation scores don't improve for 3000 rounds.\n",
      "[1000]\ttraining's auc: 0.886823\tvalid_1's auc: 0.872159\n",
      "[2000]\ttraining's auc: 0.905474\tvalid_1's auc: 0.886235\n",
      "[3000]\ttraining's auc: 0.916656\tvalid_1's auc: 0.892743\n",
      "[4000]\ttraining's auc: 0.924382\tvalid_1's auc: 0.896002\n",
      "[5000]\ttraining's auc: 0.930401\tvalid_1's auc: 0.898084\n",
      "[6000]\ttraining's auc: 0.935472\tvalid_1's auc: 0.899102\n",
      "[7000]\ttraining's auc: 0.940077\tvalid_1's auc: 0.899535\n",
      "[8000]\ttraining's auc: 0.944231\tvalid_1's auc: 0.899691\n",
      "[9000]\ttraining's auc: 0.948196\tvalid_1's auc: 0.89975\n",
      "[10000]\ttraining's auc: 0.951949\tvalid_1's auc: 0.899929\n",
      "[11000]\ttraining's auc: 0.955432\tvalid_1's auc: 0.899852\n",
      "[12000]\ttraining's auc: 0.958758\tvalid_1's auc: 0.899909\n",
      "Early stopping, best iteration is:\n",
      "[9929]\ttraining's auc: 0.951692\tvalid_1's auc: 0.899998\n",
      "Fold 7\n",
      "Training until validation scores don't improve for 3000 rounds.\n",
      "[1000]\ttraining's auc: 0.887526\tvalid_1's auc: 0.867888\n",
      "[2000]\ttraining's auc: 0.905924\tvalid_1's auc: 0.882405\n",
      "[3000]\ttraining's auc: 0.916902\tvalid_1's auc: 0.890003\n",
      "[4000]\ttraining's auc: 0.924566\tvalid_1's auc: 0.894017\n",
      "[5000]\ttraining's auc: 0.930569\tvalid_1's auc: 0.896054\n",
      "[6000]\ttraining's auc: 0.935774\tvalid_1's auc: 0.897398\n",
      "[7000]\ttraining's auc: 0.940328\tvalid_1's auc: 0.898065\n",
      "[8000]\ttraining's auc: 0.944478\tvalid_1's auc: 0.898601\n",
      "[9000]\ttraining's auc: 0.948418\tvalid_1's auc: 0.8989\n",
      "[10000]\ttraining's auc: 0.952188\tvalid_1's auc: 0.898964\n",
      "[11000]\ttraining's auc: 0.955662\tvalid_1's auc: 0.898994\n",
      "[12000]\ttraining's auc: 0.958992\tvalid_1's auc: 0.899029\n",
      "[13000]\ttraining's auc: 0.962118\tvalid_1's auc: 0.899163\n",
      "[14000]\ttraining's auc: 0.965031\tvalid_1's auc: 0.899144\n",
      "[15000]\ttraining's auc: 0.967849\tvalid_1's auc: 0.899176\n",
      "[16000]\ttraining's auc: 0.970481\tvalid_1's auc: 0.899108\n",
      "Early stopping, best iteration is:\n",
      "[13458]\ttraining's auc: 0.963477\tvalid_1's auc: 0.899378\n",
      "Fold 8\n",
      "Training until validation scores don't improve for 3000 rounds.\n",
      "[1000]\ttraining's auc: 0.886837\tvalid_1's auc: 0.876459\n",
      "[2000]\ttraining's auc: 0.905302\tvalid_1's auc: 0.890751\n",
      "[3000]\ttraining's auc: 0.916247\tvalid_1's auc: 0.897137\n",
      "[4000]\ttraining's auc: 0.924047\tvalid_1's auc: 0.900507\n",
      "[5000]\ttraining's auc: 0.929991\tvalid_1's auc: 0.902233\n",
      "[6000]\ttraining's auc: 0.935078\tvalid_1's auc: 0.90328\n",
      "[7000]\ttraining's auc: 0.939685\tvalid_1's auc: 0.903677\n",
      "[8000]\ttraining's auc: 0.94392\tvalid_1's auc: 0.903655\n"
     ]
    },
    {
     "name": "stdout",
     "output_type": "stream",
     "text": [
      "[9000]\ttraining's auc: 0.947965\tvalid_1's auc: 0.903668\n",
      "[10000]\ttraining's auc: 0.951756\tvalid_1's auc: 0.903539\n",
      "[11000]\ttraining's auc: 0.955211\tvalid_1's auc: 0.903496\n",
      "Early stopping, best iteration is:\n",
      "[8189]\ttraining's auc: 0.944687\tvalid_1's auc: 0.903741\n",
      "Fold 9\n",
      "Training until validation scores don't improve for 3000 rounds.\n",
      "[1000]\ttraining's auc: 0.887436\tvalid_1's auc: 0.872166\n",
      "[2000]\ttraining's auc: 0.905834\tvalid_1's auc: 0.88546\n",
      "[3000]\ttraining's auc: 0.916881\tvalid_1's auc: 0.891749\n",
      "[4000]\ttraining's auc: 0.924554\tvalid_1's auc: 0.895285\n",
      "[5000]\ttraining's auc: 0.930508\tvalid_1's auc: 0.896956\n",
      "[6000]\ttraining's auc: 0.935618\tvalid_1's auc: 0.898188\n",
      "[7000]\ttraining's auc: 0.940237\tvalid_1's auc: 0.898682\n",
      "[8000]\ttraining's auc: 0.944487\tvalid_1's auc: 0.899051\n",
      "[9000]\ttraining's auc: 0.948511\tvalid_1's auc: 0.899224\n",
      "[10000]\ttraining's auc: 0.95219\tvalid_1's auc: 0.899285\n",
      "[11000]\ttraining's auc: 0.955684\tvalid_1's auc: 0.899358\n",
      "[12000]\ttraining's auc: 0.959008\tvalid_1's auc: 0.899235\n",
      "[13000]\ttraining's auc: 0.962118\tvalid_1's auc: 0.899328\n",
      "[14000]\ttraining's auc: 0.96504\tvalid_1's auc: 0.899332\n",
      "[15000]\ttraining's auc: 0.967877\tvalid_1's auc: 0.899268\n",
      "[16000]\ttraining's auc: 0.970509\tvalid_1's auc: 0.899236\n",
      "Early stopping, best iteration is:\n",
      "[13771]\ttraining's auc: 0.964403\tvalid_1's auc: 0.899429\n",
      "CV score: 0.89921 \n"
     ]
    }
   ],
   "source": [
    "folds = StratifiedKFold(n_splits=10, shuffle=False, random_state=44000)\n",
    "oof = np.zeros(len(train_df))\n",
    "predictions = np.zeros(len(test_df))\n",
    "feature_importance_df = pd.DataFrame()\n",
    "\n",
    "for fold_, (trn_idx, val_idx) in enumerate(folds.split(train_df.values, target.values)):\n",
    "    print(\"Fold {}\".format(fold_))\n",
    "    trn_data = lgb.Dataset(train_df.iloc[trn_idx][features], label=target.iloc[trn_idx])\n",
    "    val_data = lgb.Dataset(train_df.iloc[val_idx][features], label=target.iloc[val_idx])\n",
    "\n",
    "    num_round = 1000000\n",
    "    clf = lgb.train(param, trn_data, num_round, valid_sets = [trn_data, val_data], verbose_eval=1000, early_stopping_rounds = 3000)\n",
    "    oof[val_idx] = clf.predict(train_df.iloc[val_idx][features], num_iteration=clf.best_iteration)\n",
    "    \n",
    "    fold_importance_df = pd.DataFrame()\n",
    "    fold_importance_df[\"Feature\"] = features\n",
    "    fold_importance_df[\"importance\"] = clf.feature_importance()\n",
    "    fold_importance_df[\"fold\"] = fold_ + 1\n",
    "    feature_importance_df = pd.concat([feature_importance_df, fold_importance_df], axis=0)\n",
    "    \n",
    "    predictions += clf.predict(test_df[features], num_iteration=clf.best_iteration) / folds.n_splits\n",
    "\n",
    "print(\"CV score: {:<8.5f}\".format(roc_auc_score(target, oof)))"
   ]
  },
  {
   "cell_type": "code",
   "execution_count": 29,
   "metadata": {},
   "outputs": [
    {
     "data": {
      "image/png": "[encoded data removed]",
      "text/plain": [
       "<Figure size 1008x2016 with 1 Axes>"
      ]
     },
     "metadata": {
      "needs_background": "light"
     },
     "output_type": "display_data"
    }
   ],
   "source": [
    "cols = (feature_importance_df[[\"Feature\", \"importance\"]]\n",
    "        .groupby(\"Feature\")\n",
    "        .mean()\n",
    "        .sort_values(by=\"importance\", ascending=False)[:150].index)\n",
    "best_features = feature_importance_df.loc[feature_importance_df.Feature.isin(cols)]\n",
    "\n",
    "plt.figure(figsize=(14,28))\n",
    "sns.barplot(x=\"importance\", y=\"Feature\", data=best_features.sort_values(by=\"importance\",ascending=False))\n",
    "plt.title('Features importance (averaged/folds)')\n",
    "plt.tight_layout()\n",
    "plt.savefig('FI.png')"
   ]
  },
  {
   "cell_type": "code",
   "execution_count": 31,
   "metadata": {},
   "outputs": [],
   "source": [
    "test2 = pd.read_csv(PATH/'test.csv', engine = 'python')"
   ]
  },
  {
   "cell_type": "code",
   "execution_count": 37,
   "metadata": {},
   "outputs": [],
   "source": [
    "sub_df = pd.DataFrame({\"ID_code\":test2[\"ID_code\"].values})\n",
    "sub_df[\"target\"] = predictions\n",
    "sub_df.to_csv(\"sub_xgboost.csv\", index=False)"
   ]
  },
  {
   "cell_type": "code",
   "execution_count": 38,
   "metadata": {},
   "outputs": [
    {
     "data": {
      "text/html": [
       "<div>\n",
       "<style scoped>\n",
       "    .dataframe tbody tr th:only-of-type {\n",
       "        vertical-align: middle;\n",
       "    }\n",
       "\n",
       "    .dataframe tbody tr th {\n",
       "        vertical-align: top;\n",
       "    }\n",
       "\n",
       "    .dataframe thead th {\n",
       "        text-align: right;\n",
       "    }\n",
       "</style>\n",
       "<table border=\"1\" class=\"dataframe\">\n",
       "  <thead>\n",
       "    <tr style=\"text-align: right;\">\n",
       "      <th></th>\n",
       "      <th>ID_code</th>\n",
       "      <th>target</th>\n",
       "    </tr>\n",
       "  </thead>\n",
       "  <tbody>\n",
       "    <tr>\n",
       "      <th>0</th>\n",
       "      <td>test_0</td>\n",
       "      <td>0.087342</td>\n",
       "    </tr>\n",
       "    <tr>\n",
       "      <th>1</th>\n",
       "      <td>test_1</td>\n",
       "      <td>0.196435</td>\n",
       "    </tr>\n",
       "    <tr>\n",
       "      <th>2</th>\n",
       "      <td>test_2</td>\n",
       "      <td>0.144430</td>\n",
       "    </tr>\n",
       "    <tr>\n",
       "      <th>3</th>\n",
       "      <td>test_3</td>\n",
       "      <td>0.186869</td>\n",
       "    </tr>\n",
       "    <tr>\n",
       "      <th>4</th>\n",
       "      <td>test_4</td>\n",
       "      <td>0.042925</td>\n",
       "    </tr>\n",
       "  </tbody>\n",
       "</table>\n",
       "</div>"
      ],
      "text/plain": [
       "  ID_code    target\n",
       "0  test_0  0.087342\n",
       "1  test_1  0.196435\n",
       "2  test_2  0.144430\n",
       "3  test_3  0.186869\n",
       "4  test_4  0.042925"
      ]
     },
     "execution_count": 38,
     "metadata": {},
     "output_type": "execute_result"
    }
   ],
   "source": [
    "sub_df.head()"
   ]
  },
  {
   "cell_type": "code",
   "execution_count": 39,
   "metadata": {},
   "outputs": [
    {
     "name": "stdout",
     "output_type": "stream",
     "text": [
      "100%|######################################| 6.06M/6.06M [00:01<00:00, 5.48MB/s]\n",
      "Successfully submitted to Santander Customer Transaction Prediction"
     ]
    }
   ],
   "source": [
    "!kaggle competitions submit -c santander-customer-transaction-prediction -f sub_xgboost.csv -m \"Message\""
   ]
  },
  {
   "cell_type": "code",
   "execution_count": 81,
   "metadata": {},
   "outputs": [],
   "source": [
    "procs = Normalize"
   ]
  },
  {
   "cell_type": "code",
   "execution_count": null,
   "metadata": {},
   "outputs": [],
   "source": []
  }
 ],
 "metadata": {
  "kernelspec": {
   "display_name": "Python 3",
   "language": "python",
   "name": "python3"
  },
  "language_info": {
   "codemirror_mode": {
    "name": "ipython",
    "version": 3
   },
   "file_extension": ".py",
   "mimetype": "text/x-python",
   "name": "python",
   "nbconvert_exporter": "python",
   "pygments_lexer": "ipython3",
   "version": "3.6.6"
  }
 },
 "nbformat": 4,
 "nbformat_minor": 2
}
